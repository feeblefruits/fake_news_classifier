{
 "cells": [
  {
   "cell_type": "code",
   "execution_count": 955,
   "metadata": {},
   "outputs": [],
   "source": [
    "import numpy as np\n",
    "import pandas as pd\n",
    "\n",
    "import nltk\n",
    "from nltk.tokenize import word_tokenize\n",
    "from nltk.stem import WordNetLemmatizer\n",
    "from nltk.corpus import stopwords\n",
    "from nltk.tokenize import word_tokenize\n",
    "\n",
    "import spacy\n",
    "from spacy import displacy\n",
    "\n",
    "import string\n",
    "import re\n",
    "import bs4 as BeautifulSoup\n",
    "import fasttext\n",
    "\n",
    "import re\n",
    "import itertools\n",
    "from collections import Counter\n",
    "\n",
    "from sklearn.metrics import classification_report, confusion_matrix\n",
    "from sklearn.model_selection import GridSearchCV\n",
    "\n",
    "from sklearn.model_selection import train_test_split\n",
    "from sklearn.pipeline import Pipeline, FeatureUnion\n",
    "from sklearn.feature_extraction.text import CountVectorizer, TfidfTransformer\n",
    "from sklearn.base import BaseEstimator, TransformerMixin\n",
    "\n",
    "from sklearn.ensemble import RandomForestClassifier\n",
    "\n",
    "import warnings\n",
    "warnings.filterwarnings(\"ignore\")"
   ]
  },
  {
   "cell_type": "code",
   "execution_count": 956,
   "metadata": {},
   "outputs": [],
   "source": [
    "stop_words = stopwords.words(\"english\")\n",
    "nlp = spacy.load('en_core_web_sm')"
   ]
  },
  {
   "cell_type": "code",
   "execution_count": 957,
   "metadata": {},
   "outputs": [],
   "source": [
    "url_regex = 'http[s]?://(?:[a-zA-Z]|[0-9]|[$-_@.&+]|[!*\\(\\),]|(?:%[0-9a-fA-F][0-9a-fA-F]))+'"
   ]
  },
  {
   "cell_type": "markdown",
   "metadata": {},
   "source": [
    "## Setup custom transformers for pipeine\n",
    "\n",
    "Features extracted via custom transformers are based on trends discovered during data analysis"
   ]
  },
  {
   "cell_type": "code",
   "execution_count": 958,
   "metadata": {},
   "outputs": [],
   "source": [
    "# create class for custom transformer\n",
    "class CharCounter(BaseEstimator, TransformerMixin):\n",
    "  \n",
    "    # takes in a 2d array X for the feature data and a 1d array y for the target labels\n",
    "    def fit(self, X, y=None):\n",
    "        return self\n",
    "    # transform method also takes a 2d array X\n",
    "    def transform(self, X):\n",
    "        \n",
    "        n_char = X.str.len()\n",
    "        \n",
    "        X_values = n_char\n",
    "        \n",
    "        return pd.DataFrame(np.array(X_values))"
   ]
  },
  {
   "cell_type": "code",
   "execution_count": 959,
   "metadata": {},
   "outputs": [],
   "source": [
    "# create class for custom transformer\n",
    "class CaseCounter(BaseEstimator, TransformerMixin):\n",
    "  \n",
    "    # takes in a 2d array X for the feature data and a 1d array y for the target labels\n",
    "    def fit(self, X, y=None):\n",
    "        return self\n",
    "    # transform method also takes a 2d array X\n",
    "    def transform(self, X):\n",
    "        \n",
    "        n_title_case = pd.Series(X).apply(lambda x: sum(1 for c in x if c.isupper())).values\n",
    "        n_char = X.str.len()\n",
    "        \n",
    "        X_values = n_title_case / n_char\n",
    "        \n",
    "        return pd.DataFrame(np.array(X_values))"
   ]
  },
  {
   "cell_type": "code",
   "execution_count": 960,
   "metadata": {},
   "outputs": [],
   "source": [
    "# create class for custom transformer\n",
    "class StopWordCounter(BaseEstimator, TransformerMixin):\n",
    "  \n",
    "    # takes in a 2d array X for the feature data and a 1d array y for the target labels\n",
    "    def fit(self, X, y=None):\n",
    "        return self\n",
    "    \n",
    "    # transform method also takes a 2d array X\n",
    "    def transform(self, X):\n",
    "        \n",
    "        '''\n",
    "        INPUT: string\n",
    "        OUPUT: number of stopwords found (int)\n",
    "        '''\n",
    "\n",
    "        X_values = []\n",
    "\n",
    "        for text in X:\n",
    "            stop_words_found = []\n",
    "\n",
    "            for i in text.split():\n",
    "                if i in stop_words:\n",
    "                    stop_words_found.append(1)\n",
    "\n",
    "            X_values.append(sum(stop_words_found))\n",
    "\n",
    "        return pd.DataFrame(np.array(X_values))"
   ]
  },
  {
   "cell_type": "code",
   "execution_count": 961,
   "metadata": {},
   "outputs": [],
   "source": [
    "# create class for custom transformer\n",
    "class WordPronCounter(BaseEstimator, TransformerMixin):\n",
    "  \n",
    "    # takes in a 2d array X for the feature data and a 1d array y for the target labels\n",
    "    def fit(self, X, y=None):\n",
    "        return self\n",
    "    \n",
    "    # transform method also takes a 2d array X\n",
    "    def transform(self, X):\n",
    "        \n",
    "        X_values = []\n",
    "\n",
    "        for text in X:\n",
    "            pronouns = []\n",
    "\n",
    "            for token in nlp(text):\n",
    "                if token.pos_ == 'PRON':\n",
    "                    pronouns.append(token)\n",
    "\n",
    "            X_values.append(len(pronouns))\n",
    "                \n",
    "        return pd.DataFrame(np.array(X_values))"
   ]
  },
  {
   "cell_type": "code",
   "execution_count": 962,
   "metadata": {},
   "outputs": [],
   "source": [
    "# create class for custom transformer\n",
    "class WordNounCounter(BaseEstimator, TransformerMixin):\n",
    "  \n",
    "    # takes in a 2d array X for the feature data and a 1d array y for the target labels\n",
    "    def fit(self, X, y=None):\n",
    "        return self\n",
    "    \n",
    "    # transform method also takes a 2d array X\n",
    "    def transform(self, X):\n",
    "        \n",
    "        X_values = []\n",
    "\n",
    "        for text in X:\n",
    "            pronouns = []\n",
    "\n",
    "            for token in nlp(text):\n",
    "                if token.pos_ == 'NOUN':\n",
    "                    pronouns.append(token)\n",
    "\n",
    "            X_values.append(len(pronouns))\n",
    "                \n",
    "        return pd.DataFrame(np.array(X_values))"
   ]
  },
  {
   "cell_type": "code",
   "execution_count": 963,
   "metadata": {},
   "outputs": [],
   "source": [
    "# create class for custom transformer\n",
    "class WordAdjCounter(BaseEstimator, TransformerMixin):\n",
    "  \n",
    "    # takes in a 2d array X for the feature data and a 1d array y for the target labels\n",
    "    def fit(self, X, y=None):\n",
    "        return self\n",
    "    \n",
    "    # transform method also takes a 2d array X\n",
    "    def transform(self, X):\n",
    "        \n",
    "        X_values = []\n",
    "\n",
    "        for text in X:\n",
    "            pronouns = []\n",
    "\n",
    "            for token in nlp(text):\n",
    "                if token.pos_ == 'ADJ':\n",
    "                    pronouns.append(token)\n",
    "\n",
    "            X_values.append(len(pronouns))\n",
    "                \n",
    "        return pd.DataFrame(np.array(X_values))"
   ]
  },
  {
   "cell_type": "markdown",
   "metadata": {},
   "source": [
    "## Load data and pipeline"
   ]
  },
  {
   "cell_type": "code",
   "execution_count": 964,
   "metadata": {},
   "outputs": [],
   "source": [
    "def tokenize(text):\n",
    "\n",
    "    '''\n",
    "    INPUT: String to tokenise, detect and replace URLs\n",
    "    OUTPUT: List of tokenised string items\n",
    "    '''\n",
    "\n",
    "    # Remove punctuations and numbers\n",
    "    text = re.sub('[^a-zA-Z]', ' ', text)\n",
    "\n",
    "    # Single character removal\n",
    "    text = re.sub(r\"\\s+[a-zA-Z]\\s+\", ' ', text)\n",
    "\n",
    "    # Removing multiple spaces\n",
    "    text = re.sub(r'\\s+', ' ', text)\n",
    "\n",
    "    text = [w for w in text.split() if not w in stop_words]\n",
    "\n",
    "    # Join list to string\n",
    "    text = \" \".join(text)\n",
    "\n",
    "    # Replace URLs if any\n",
    "    detected_urls = re.findall(url_regex, text)\n",
    "    for url in detected_urls:\n",
    "        text = text.replace(url, \"urlplaceholder\")\n",
    "\n",
    "    # Setup tokens and lemmatize\n",
    "    tokens = word_tokenize(text)\n",
    "    lemmatizer = WordNetLemmatizer()\n",
    "\n",
    "    # Create tokens and lemmatize\n",
    "    clean_tokens = []\n",
    "    for tok in tokens:\n",
    "        clean_tok = lemmatizer.lemmatize(tok).lower().strip()\n",
    "        clean_tokens.append(clean_tok)\n",
    "\n",
    "    return clean_tokens"
   ]
  },
  {
   "cell_type": "code",
   "execution_count": 965,
   "metadata": {},
   "outputs": [],
   "source": [
    "def model_pipeline():\n",
    "    pipeline = Pipeline([\n",
    "        ('features', FeatureUnion([\n",
    "            ('text_pipeline', Pipeline([\n",
    "                ('vect', CountVectorizer(tokenizer=tokenize)),\n",
    "                ('tfidf', TfidfTransformer())\n",
    "            ])),\n",
    "            ('char_counter', CharCounter()),\n",
    "            ('case_counter', CaseCounter()),\n",
    "            ('stop_counter', StopWordCounter()),\n",
    "            ('pro_counter', WordPronCounter()),\n",
    "            ('noun_counter', WordNounCounter()),\n",
    "            ('adj_counter', WordAdjCounter())\n",
    "        ])),\n",
    "        ('clf', RandomForestClassifier())\n",
    "    ])\n",
    "\n",
    "    return pipeline"
   ]
  },
  {
   "cell_type": "code",
   "execution_count": 966,
   "metadata": {},
   "outputs": [],
   "source": [
    "df = pd.read_csv('https://raw.githubusercontent.com/susanli2016/NLP-with-Python/master/data/corona_fake.csv')"
   ]
  },
  {
   "cell_type": "code",
   "execution_count": 967,
   "metadata": {},
   "outputs": [],
   "source": [
    "def load_data(df):\n",
    "\n",
    "    '''\n",
    "    INPUT: string directory of db\n",
    "    OUTPUT: x message pd column, y categorical column labels, categorical names\n",
    "    '''\n",
    "    \n",
    "    df = df.dropna(subset=['title'])\n",
    "    df = df.dropna(subset=['text'])\n",
    "    df = df.dropna(subset=['label'])\n",
    "    \n",
    "    df.drop(axis=1, labels='source', inplace=True)\n",
    "    \n",
    "    df['label'].replace('TRUE', 1, inplace=True)\n",
    "    df['label'].replace('fake', 0, inplace=True)\n",
    "    df['label'].replace('Fake', 0, inplace=True)\n",
    "    \n",
    "    df.reset_index(drop=True, inplace=True)\n",
    "\n",
    "    # read in file\n",
    "    X = df['title']\n",
    "    Y = df['label']\n",
    "    \n",
    "    return X, Y"
   ]
  },
  {
   "cell_type": "code",
   "execution_count": 968,
   "metadata": {},
   "outputs": [],
   "source": [
    "X, Y = load_data(df)"
   ]
  },
  {
   "cell_type": "code",
   "execution_count": 969,
   "metadata": {},
   "outputs": [],
   "source": [
    "X_train, X_test, y_train, y_test = train_test_split(X, Y, test_size=0.25)"
   ]
  },
  {
   "cell_type": "markdown",
   "metadata": {},
   "source": [
    "## Fit model and check accuracy"
   ]
  },
  {
   "cell_type": "code",
   "execution_count": 970,
   "metadata": {},
   "outputs": [],
   "source": [
    "model = model_pipeline()\n",
    "model.fit(X_train, y_train);"
   ]
  },
  {
   "cell_type": "code",
   "execution_count": 971,
   "metadata": {},
   "outputs": [],
   "source": [
    "y_pred = model.predict(X_test)"
   ]
  },
  {
   "cell_type": "code",
   "execution_count": 972,
   "metadata": {},
   "outputs": [],
   "source": [
    "def display_results(y_test, y_pred):\n",
    "    labels = np.unique(y_pred)\n",
    "    confusion_mat = confusion_matrix(y_test, y_pred, labels=labels)\n",
    "    accuracy = (y_pred == y_test).mean()\n",
    "\n",
    "    print(\"Accuracy:\", accuracy)"
   ]
  },
  {
   "cell_type": "code",
   "execution_count": 973,
   "metadata": {},
   "outputs": [
    {
     "name": "stdout",
     "output_type": "stream",
     "text": [
      "Accuracy: 0.8246268656716418\n"
     ]
    }
   ],
   "source": [
    "display_results(y_test, y_pred)"
   ]
  },
  {
   "cell_type": "code",
   "execution_count": 974,
   "metadata": {},
   "outputs": [],
   "source": [
    "report = classification_report(y_true=y_test,\n",
    "                               y_pred=y_pred,\n",
    "                               target_names=['fake','true'],\n",
    "                               output_dict=True)"
   ]
  },
  {
   "cell_type": "code",
   "execution_count": 975,
   "metadata": {},
   "outputs": [
    {
     "data": {
      "text/html": [
       "<style  type=\"text/css\" >\n",
       "    #T_405ce8ba_0bbd_11eb_bf9e_38f9d3537bcbrow0_col0 {\n",
       "            background-color:  lightgreen;\n",
       "            : ;\n",
       "        }    #T_405ce8ba_0bbd_11eb_bf9e_38f9d3537bcbrow0_col1 {\n",
       "            : ;\n",
       "            background-color:  lightgreen;\n",
       "        }    #T_405ce8ba_0bbd_11eb_bf9e_38f9d3537bcbrow0_col2 {\n",
       "            : ;\n",
       "            background-color:  lightgreen;\n",
       "        }    #T_405ce8ba_0bbd_11eb_bf9e_38f9d3537bcbrow1_col0 {\n",
       "            : ;\n",
       "            background-color:  lightgreen;\n",
       "        }    #T_405ce8ba_0bbd_11eb_bf9e_38f9d3537bcbrow1_col1 {\n",
       "            background-color:  lightgreen;\n",
       "            : ;\n",
       "        }    #T_405ce8ba_0bbd_11eb_bf9e_38f9d3537bcbrow1_col2 {\n",
       "            background-color:  lightgreen;\n",
       "            : ;\n",
       "        }</style><table id=\"T_405ce8ba_0bbd_11eb_bf9e_38f9d3537bcb\" ><thead>    <tr>        <th class=\"blank level0\" ></th>        <th class=\"col_heading level0 col0\" >precision</th>        <th class=\"col_heading level0 col1\" >recall</th>        <th class=\"col_heading level0 col2\" >f1-score</th>        <th class=\"col_heading level0 col3\" >support</th>    </tr></thead><tbody>\n",
       "                <tr>\n",
       "                        <th id=\"T_405ce8ba_0bbd_11eb_bf9e_38f9d3537bcblevel0_row0\" class=\"row_heading level0 row0\" >fake</th>\n",
       "                        <td id=\"T_405ce8ba_0bbd_11eb_bf9e_38f9d3537bcbrow0_col0\" class=\"data row0 col0\" >0.830508</td>\n",
       "                        <td id=\"T_405ce8ba_0bbd_11eb_bf9e_38f9d3537bcbrow0_col1\" class=\"data row0 col1\" >0.784000</td>\n",
       "                        <td id=\"T_405ce8ba_0bbd_11eb_bf9e_38f9d3537bcbrow0_col2\" class=\"data row0 col2\" >0.806584</td>\n",
       "                        <td id=\"T_405ce8ba_0bbd_11eb_bf9e_38f9d3537bcbrow0_col3\" class=\"data row0 col3\" >125.000000</td>\n",
       "            </tr>\n",
       "            <tr>\n",
       "                        <th id=\"T_405ce8ba_0bbd_11eb_bf9e_38f9d3537bcblevel0_row1\" class=\"row_heading level0 row1\" >true</th>\n",
       "                        <td id=\"T_405ce8ba_0bbd_11eb_bf9e_38f9d3537bcbrow1_col0\" class=\"data row1 col0\" >0.820000</td>\n",
       "                        <td id=\"T_405ce8ba_0bbd_11eb_bf9e_38f9d3537bcbrow1_col1\" class=\"data row1 col1\" >0.860140</td>\n",
       "                        <td id=\"T_405ce8ba_0bbd_11eb_bf9e_38f9d3537bcbrow1_col2\" class=\"data row1 col2\" >0.839590</td>\n",
       "                        <td id=\"T_405ce8ba_0bbd_11eb_bf9e_38f9d3537bcbrow1_col3\" class=\"data row1 col3\" >143.000000</td>\n",
       "            </tr>\n",
       "            <tr>\n",
       "                        <th id=\"T_405ce8ba_0bbd_11eb_bf9e_38f9d3537bcblevel0_row2\" class=\"row_heading level0 row2\" >accuracy</th>\n",
       "                        <td id=\"T_405ce8ba_0bbd_11eb_bf9e_38f9d3537bcbrow2_col0\" class=\"data row2 col0\" >0.824627</td>\n",
       "                        <td id=\"T_405ce8ba_0bbd_11eb_bf9e_38f9d3537bcbrow2_col1\" class=\"data row2 col1\" >0.824627</td>\n",
       "                        <td id=\"T_405ce8ba_0bbd_11eb_bf9e_38f9d3537bcbrow2_col2\" class=\"data row2 col2\" >0.824627</td>\n",
       "                        <td id=\"T_405ce8ba_0bbd_11eb_bf9e_38f9d3537bcbrow2_col3\" class=\"data row2 col3\" >0.824627</td>\n",
       "            </tr>\n",
       "            <tr>\n",
       "                        <th id=\"T_405ce8ba_0bbd_11eb_bf9e_38f9d3537bcblevel0_row3\" class=\"row_heading level0 row3\" >macro avg</th>\n",
       "                        <td id=\"T_405ce8ba_0bbd_11eb_bf9e_38f9d3537bcbrow3_col0\" class=\"data row3 col0\" >0.825254</td>\n",
       "                        <td id=\"T_405ce8ba_0bbd_11eb_bf9e_38f9d3537bcbrow3_col1\" class=\"data row3 col1\" >0.822070</td>\n",
       "                        <td id=\"T_405ce8ba_0bbd_11eb_bf9e_38f9d3537bcbrow3_col2\" class=\"data row3 col2\" >0.823087</td>\n",
       "                        <td id=\"T_405ce8ba_0bbd_11eb_bf9e_38f9d3537bcbrow3_col3\" class=\"data row3 col3\" >268.000000</td>\n",
       "            </tr>\n",
       "            <tr>\n",
       "                        <th id=\"T_405ce8ba_0bbd_11eb_bf9e_38f9d3537bcblevel0_row4\" class=\"row_heading level0 row4\" >weighted avg</th>\n",
       "                        <td id=\"T_405ce8ba_0bbd_11eb_bf9e_38f9d3537bcbrow4_col0\" class=\"data row4 col0\" >0.824901</td>\n",
       "                        <td id=\"T_405ce8ba_0bbd_11eb_bf9e_38f9d3537bcbrow4_col1\" class=\"data row4 col1\" >0.824627</td>\n",
       "                        <td id=\"T_405ce8ba_0bbd_11eb_bf9e_38f9d3537bcbrow4_col2\" class=\"data row4 col2\" >0.824196</td>\n",
       "                        <td id=\"T_405ce8ba_0bbd_11eb_bf9e_38f9d3537bcbrow4_col3\" class=\"data row4 col3\" >268.000000</td>\n",
       "            </tr>\n",
       "    </tbody></table>"
      ],
      "text/plain": [
       "<pandas.io.formats.style.Styler at 0x7fec2d89c610>"
      ]
     },
     "execution_count": 975,
     "metadata": {},
     "output_type": "execute_result"
    }
   ],
   "source": [
    "pd.DataFrame(report).transpose().style\\\n",
    ".highlight_max(color='lightgreen', subset=['precision'])\\\n",
    ".highlight_min(color='lightgreen', subset=['precision'] )\\\n",
    ".highlight_max(color='lightgreen', subset=['recall'])\\\n",
    ".highlight_min(color='lightgreen', subset=['recall'] )\\\n",
    ".highlight_max(color='lightgreen', subset=['f1-score'])\\\n",
    ".highlight_min(color='lightgreen', subset=['f1-score'] )"
   ]
  },
  {
   "cell_type": "markdown",
   "metadata": {},
   "source": [
    "## Hyperparameter tuning"
   ]
  },
  {
   "cell_type": "code",
   "execution_count": 976,
   "metadata": {},
   "outputs": [],
   "source": [
    "pipeline = model_pipeline()"
   ]
  },
  {
   "cell_type": "code",
   "execution_count": 977,
   "metadata": {},
   "outputs": [],
   "source": [
    "parameters = {\n",
    "    'features__text_pipeline__vect__ngram_range': ((1, 1), (1, 2)),\n",
    "#     'features__text_pipeline__vect__max_df': (0.5, 1.0),\n",
    "#     'clf__min_samples_split': [2, 3, 4],\n",
    "    'features__transformer_weights': (\n",
    "        {'text_pipeline': 1, 'char_counter': 0.5},\n",
    "        {'text_pipeline': 0.5, 'char_counter': 1},\n",
    "\n",
    "    )\n",
    "}\n",
    "\n",
    "cv = GridSearchCV(pipeline, param_grid=parameters)"
   ]
  },
  {
   "cell_type": "code",
   "execution_count": 978,
   "metadata": {},
   "outputs": [],
   "source": [
    "cv.fit(X_train, y_train);"
   ]
  },
  {
   "cell_type": "code",
   "execution_count": 979,
   "metadata": {},
   "outputs": [],
   "source": [
    "y_pred = model.predict(X_test)"
   ]
  },
  {
   "cell_type": "code",
   "execution_count": 980,
   "metadata": {},
   "outputs": [],
   "source": [
    "def display_cv_results(cv, y_test, y_pred):\n",
    "    labels = np.unique(y_pred)\n",
    "    confusion_mat = confusion_matrix(y_test, y_pred, labels=labels)\n",
    "    accuracy = (y_pred == y_test).mean()\n",
    "\n",
    "    print(\"Labels:\", labels)\n",
    "    print(\"Confusion Matrix:\\n\", confusion_mat)\n",
    "    print(\"Accuracy:\", accuracy)\n",
    "    print(\"\\nBest Parameters:\", cv.best_params_)"
   ]
  },
  {
   "cell_type": "code",
   "execution_count": 981,
   "metadata": {},
   "outputs": [
    {
     "name": "stdout",
     "output_type": "stream",
     "text": [
      "Labels: [0 1]\n",
      "Confusion Matrix:\n",
      " [[ 98  27]\n",
      " [ 20 123]]\n",
      "Accuracy: 0.8246268656716418\n",
      "\n",
      "Best Parameters: {'features__text_pipeline__vect__ngram_range': (1, 1), 'features__transformer_weights': {'text_pipeline': 1, 'char_counter': 0.5}}\n"
     ]
    }
   ],
   "source": [
    "display_cv_results(cv, y_test, y_pred)"
   ]
  },
  {
   "cell_type": "code",
   "execution_count": 984,
   "metadata": {},
   "outputs": [],
   "source": [
    "report = classification_report(y_true=y_test,\n",
    "                               y_pred=y_pred,\n",
    "                               target_names=['fake','true'],\n",
    "                               output_dict=True)"
   ]
  },
  {
   "cell_type": "code",
   "execution_count": 985,
   "metadata": {},
   "outputs": [
    {
     "data": {
      "text/html": [
       "<style  type=\"text/css\" >\n",
       "    #T_85b36350_0bc0_11eb_bf9e_38f9d3537bcbrow0_col0 {\n",
       "            background-color:  lightgreen;\n",
       "            : ;\n",
       "        }    #T_85b36350_0bc0_11eb_bf9e_38f9d3537bcbrow0_col1 {\n",
       "            : ;\n",
       "            background-color:  lightgreen;\n",
       "        }    #T_85b36350_0bc0_11eb_bf9e_38f9d3537bcbrow0_col2 {\n",
       "            : ;\n",
       "            background-color:  lightgreen;\n",
       "        }    #T_85b36350_0bc0_11eb_bf9e_38f9d3537bcbrow1_col0 {\n",
       "            : ;\n",
       "            background-color:  lightgreen;\n",
       "        }    #T_85b36350_0bc0_11eb_bf9e_38f9d3537bcbrow1_col1 {\n",
       "            background-color:  lightgreen;\n",
       "            : ;\n",
       "        }    #T_85b36350_0bc0_11eb_bf9e_38f9d3537bcbrow1_col2 {\n",
       "            background-color:  lightgreen;\n",
       "            : ;\n",
       "        }</style><table id=\"T_85b36350_0bc0_11eb_bf9e_38f9d3537bcb\" ><thead>    <tr>        <th class=\"blank level0\" ></th>        <th class=\"col_heading level0 col0\" >precision</th>        <th class=\"col_heading level0 col1\" >recall</th>        <th class=\"col_heading level0 col2\" >f1-score</th>        <th class=\"col_heading level0 col3\" >support</th>    </tr></thead><tbody>\n",
       "                <tr>\n",
       "                        <th id=\"T_85b36350_0bc0_11eb_bf9e_38f9d3537bcblevel0_row0\" class=\"row_heading level0 row0\" >fake</th>\n",
       "                        <td id=\"T_85b36350_0bc0_11eb_bf9e_38f9d3537bcbrow0_col0\" class=\"data row0 col0\" >0.830508</td>\n",
       "                        <td id=\"T_85b36350_0bc0_11eb_bf9e_38f9d3537bcbrow0_col1\" class=\"data row0 col1\" >0.784000</td>\n",
       "                        <td id=\"T_85b36350_0bc0_11eb_bf9e_38f9d3537bcbrow0_col2\" class=\"data row0 col2\" >0.806584</td>\n",
       "                        <td id=\"T_85b36350_0bc0_11eb_bf9e_38f9d3537bcbrow0_col3\" class=\"data row0 col3\" >125.000000</td>\n",
       "            </tr>\n",
       "            <tr>\n",
       "                        <th id=\"T_85b36350_0bc0_11eb_bf9e_38f9d3537bcblevel0_row1\" class=\"row_heading level0 row1\" >true</th>\n",
       "                        <td id=\"T_85b36350_0bc0_11eb_bf9e_38f9d3537bcbrow1_col0\" class=\"data row1 col0\" >0.820000</td>\n",
       "                        <td id=\"T_85b36350_0bc0_11eb_bf9e_38f9d3537bcbrow1_col1\" class=\"data row1 col1\" >0.860140</td>\n",
       "                        <td id=\"T_85b36350_0bc0_11eb_bf9e_38f9d3537bcbrow1_col2\" class=\"data row1 col2\" >0.839590</td>\n",
       "                        <td id=\"T_85b36350_0bc0_11eb_bf9e_38f9d3537bcbrow1_col3\" class=\"data row1 col3\" >143.000000</td>\n",
       "            </tr>\n",
       "            <tr>\n",
       "                        <th id=\"T_85b36350_0bc0_11eb_bf9e_38f9d3537bcblevel0_row2\" class=\"row_heading level0 row2\" >accuracy</th>\n",
       "                        <td id=\"T_85b36350_0bc0_11eb_bf9e_38f9d3537bcbrow2_col0\" class=\"data row2 col0\" >0.824627</td>\n",
       "                        <td id=\"T_85b36350_0bc0_11eb_bf9e_38f9d3537bcbrow2_col1\" class=\"data row2 col1\" >0.824627</td>\n",
       "                        <td id=\"T_85b36350_0bc0_11eb_bf9e_38f9d3537bcbrow2_col2\" class=\"data row2 col2\" >0.824627</td>\n",
       "                        <td id=\"T_85b36350_0bc0_11eb_bf9e_38f9d3537bcbrow2_col3\" class=\"data row2 col3\" >0.824627</td>\n",
       "            </tr>\n",
       "            <tr>\n",
       "                        <th id=\"T_85b36350_0bc0_11eb_bf9e_38f9d3537bcblevel0_row3\" class=\"row_heading level0 row3\" >macro avg</th>\n",
       "                        <td id=\"T_85b36350_0bc0_11eb_bf9e_38f9d3537bcbrow3_col0\" class=\"data row3 col0\" >0.825254</td>\n",
       "                        <td id=\"T_85b36350_0bc0_11eb_bf9e_38f9d3537bcbrow3_col1\" class=\"data row3 col1\" >0.822070</td>\n",
       "                        <td id=\"T_85b36350_0bc0_11eb_bf9e_38f9d3537bcbrow3_col2\" class=\"data row3 col2\" >0.823087</td>\n",
       "                        <td id=\"T_85b36350_0bc0_11eb_bf9e_38f9d3537bcbrow3_col3\" class=\"data row3 col3\" >268.000000</td>\n",
       "            </tr>\n",
       "            <tr>\n",
       "                        <th id=\"T_85b36350_0bc0_11eb_bf9e_38f9d3537bcblevel0_row4\" class=\"row_heading level0 row4\" >weighted avg</th>\n",
       "                        <td id=\"T_85b36350_0bc0_11eb_bf9e_38f9d3537bcbrow4_col0\" class=\"data row4 col0\" >0.824901</td>\n",
       "                        <td id=\"T_85b36350_0bc0_11eb_bf9e_38f9d3537bcbrow4_col1\" class=\"data row4 col1\" >0.824627</td>\n",
       "                        <td id=\"T_85b36350_0bc0_11eb_bf9e_38f9d3537bcbrow4_col2\" class=\"data row4 col2\" >0.824196</td>\n",
       "                        <td id=\"T_85b36350_0bc0_11eb_bf9e_38f9d3537bcbrow4_col3\" class=\"data row4 col3\" >268.000000</td>\n",
       "            </tr>\n",
       "    </tbody></table>"
      ],
      "text/plain": [
       "<pandas.io.formats.style.Styler at 0x7fec00cdead0>"
      ]
     },
     "execution_count": 985,
     "metadata": {},
     "output_type": "execute_result"
    }
   ],
   "source": [
    "pd.DataFrame(report).transpose().style\\\n",
    ".highlight_max(color='lightgreen', subset=['precision'])\\\n",
    ".highlight_min(color='lightgreen', subset=['precision'] )\\\n",
    ".highlight_max(color='lightgreen', subset=['recall'])\\\n",
    ".highlight_min(color='lightgreen', subset=['recall'] )\\\n",
    ".highlight_max(color='lightgreen', subset=['f1-score'])\\\n",
    ".highlight_min(color='lightgreen', subset=['f1-score'] )"
   ]
  },
  {
   "cell_type": "markdown",
   "metadata": {},
   "source": [
    "<h2>Multiple classifer test</h2>"
   ]
  },
  {
   "cell_type": "code",
   "execution_count": 982,
   "metadata": {},
   "outputs": [],
   "source": [
    "from sklearn.ensemble import RandomForestClassifier\n",
    "from sklearn.ensemble import AdaBoostClassifier\n",
    "from sklearn.ensemble import GradientBoostingClassifier\n",
    "from sklearn.svm import SVC\n",
    "from sklearn.linear_model import LogisticRegression\n",
    "from sklearn.neighbors import KNeighborsClassifier\n",
    "from sklearn.tree import DecisionTreeClassifier\n",
    "\n",
    "from sklearn.model_selection import cross_validate"
   ]
  },
  {
   "cell_type": "code",
   "execution_count": 983,
   "metadata": {},
   "outputs": [
    {
     "name": "stdout",
     "output_type": "stream",
     "text": [
      "---------------------------------\n",
      "RandomForestClassifier(bootstrap=True, class_weight=None, criterion='gini',\n",
      "                       max_depth=None, max_features='auto', max_leaf_nodes=None,\n",
      "                       min_impurity_decrease=0.0, min_impurity_split=None,\n",
      "                       min_samples_leaf=1, min_samples_split=2,\n",
      "                       min_weight_fraction_leaf=0.0, n_estimators='warn',\n",
      "                       n_jobs=None, oob_score=False, random_state=None,\n",
      "                       verbose=0, warm_start=False)\n",
      "-----------------------------------\n",
      "fit_time  mean  15.30619223912557\n",
      "fit_time  std  1.5044411739878019\n",
      "score_time  mean  6.76354996363322\n",
      "score_time  std  0.39624837654681416\n",
      "test_score  mean  0.7952821990131009\n",
      "test_score  std  0.02125308090319933\n",
      "---------------------------------\n",
      "AdaBoostClassifier(algorithm='SAMME.R', base_estimator=None, learning_rate=1.0,\n",
      "                   n_estimators=50, random_state=None)\n",
      "-----------------------------------\n",
      "fit_time  mean  13.042236963907877\n",
      "fit_time  std  1.0613622269381382\n",
      "score_time  mean  6.902839740117391\n",
      "score_time  std  0.6411615593208106\n",
      "test_score  mean  0.8152712753430337\n",
      "test_score  std  0.01454733408161048\n",
      "---------------------------------\n",
      "GradientBoostingClassifier(criterion='friedman_mse', init=None,\n",
      "                           learning_rate=0.1, loss='deviance', max_depth=3,\n",
      "                           max_features=None, max_leaf_nodes=None,\n",
      "                           min_impurity_decrease=0.0, min_impurity_split=None,\n",
      "                           min_samples_leaf=1, min_samples_split=2,\n",
      "                           min_weight_fraction_leaf=0.0, n_estimators=100,\n",
      "                           n_iter_no_change=None, presort='auto',\n",
      "                           random_state=None, subsample=1.0, tol=0.0001,\n",
      "                           validation_fraction=0.1, verbose=0,\n",
      "                           warm_start=False)\n",
      "-----------------------------------\n",
      "fit_time  mean  14.292409658432007\n",
      "fit_time  std  1.857958619862945\n",
      "score_time  mean  7.463760614395142\n",
      "score_time  std  1.4875880380873432\n",
      "test_score  mean  0.8164871763510738\n",
      "test_score  std  0.021344210243377237\n",
      "---------------------------------\n",
      "SVC(C=1.0, cache_size=200, class_weight=None, coef0=0.0,\n",
      "    decision_function_shape='ovr', degree=3, gamma='auto_deprecated',\n",
      "    kernel='rbf', max_iter=-1, probability=False, random_state=None,\n",
      "    shrinking=True, tol=0.001, verbose=False)\n",
      "-----------------------------------\n",
      "fit_time  mean  14.437827666600546\n",
      "fit_time  std  1.0987179892758732\n",
      "score_time  mean  7.001583099365234\n",
      "score_time  std  0.5764994526914062\n",
      "test_score  mean  0.6616370430240172\n",
      "test_score  std  0.012522543210842741\n",
      "---------------------------------\n",
      "LogisticRegression(C=1.0, class_weight=None, dual=False, fit_intercept=True,\n",
      "                   intercept_scaling=1, l1_ratio=None, max_iter=100,\n",
      "                   multi_class='warn', n_jobs=None, penalty='l2',\n",
      "                   random_state=None, solver='warn', tol=0.0001, verbose=0,\n",
      "                   warm_start=False)\n",
      "-----------------------------------\n",
      "fit_time  mean  13.321320136388143\n",
      "fit_time  std  0.6100141357094762\n",
      "score_time  mean  6.760894219080607\n",
      "score_time  std  0.11093631835689083\n",
      "test_score  mean  0.8301545831709914\n",
      "test_score  std  0.02011755271195277\n",
      "---------------------------------\n",
      "KNeighborsClassifier(algorithm='auto', leaf_size=30, metric='minkowski',\n",
      "                     metric_params=None, n_jobs=None, n_neighbors=3, p=2,\n",
      "                     weights='uniform')\n",
      "-----------------------------------\n",
      "fit_time  mean  12.758257945378622\n",
      "fit_time  std  0.5581576126517543\n",
      "score_time  mean  6.148993968963623\n",
      "score_time  std  0.1735010935953181\n",
      "test_score  mean  0.6916419703739756\n",
      "test_score  std  0.007380969471094688\n",
      "---------------------------------\n",
      "DecisionTreeClassifier(class_weight=None, criterion='gini', max_depth=None,\n",
      "                       max_features=None, max_leaf_nodes=None,\n",
      "                       min_impurity_decrease=0.0, min_impurity_split=None,\n",
      "                       min_samples_leaf=1, min_samples_split=2,\n",
      "                       min_weight_fraction_leaf=0.0, presort=False,\n",
      "                       random_state=None, splitter='best')\n",
      "-----------------------------------\n",
      "fit_time  mean  12.812431971232096\n",
      "fit_time  std  0.7242806730646988\n",
      "score_time  mean  6.574019114176433\n",
      "score_time  std  0.06440154798997706\n",
      "test_score  mean  0.7690880521780722\n",
      "test_score  std  0.019822665397913025\n"
     ]
    }
   ],
   "source": [
    "clfs = []\n",
    "clfs.append(RandomForestClassifier())\n",
    "clfs.append(AdaBoostClassifier())\n",
    "clfs.append(GradientBoostingClassifier())\n",
    "clfs.append(SVC())\n",
    "clfs.append(LogisticRegression())\n",
    "clfs.append(KNeighborsClassifier(n_neighbors=3))\n",
    "clfs.append(DecisionTreeClassifier())\n",
    "\n",
    "classifier_name = []\n",
    "mean_value = []\n",
    "std_value = []\n",
    "\n",
    "for classifier in clfs:\n",
    "    pipeline.set_params(clf = classifier)\n",
    "    scores = cross_validate(pipeline, X_train, y_train)\n",
    "    print('---------------------------------')\n",
    "    print(str(classifier))\n",
    "    print('-----------------------------------')\n",
    "    \n",
    "    for key, values in scores.items():\n",
    "        \n",
    "        classifier_name.append(classifier)\n",
    "        mean_value.append(values.mean())\n",
    "        std_value.append(values.std())\n",
    "        \n",
    "        print(key,' mean ', values.mean())\n",
    "        print(key,' std ', values.std())"
   ]
  },
  {
   "cell_type": "code",
   "execution_count": null,
   "metadata": {},
   "outputs": [],
   "source": []
  }
 ],
 "metadata": {
  "kernelspec": {
   "display_name": "Python 3",
   "language": "python",
   "name": "python3"
  },
  "language_info": {
   "codemirror_mode": {
    "name": "ipython",
    "version": 3
   },
   "file_extension": ".py",
   "mimetype": "text/x-python",
   "name": "python",
   "nbconvert_exporter": "python",
   "pygments_lexer": "ipython3",
   "version": "3.7.7"
  }
 },
 "nbformat": 4,
 "nbformat_minor": 4
}
